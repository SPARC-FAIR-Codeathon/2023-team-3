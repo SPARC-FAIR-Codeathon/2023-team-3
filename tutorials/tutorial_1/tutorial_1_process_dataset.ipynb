{
 "cells": [
  {
   "cell_type": "markdown",
   "id": "58dcd0c7",
   "metadata": {},
   "source": [
    "This tutorial will identify a published SPARC data set (SDS) that uses a python script to generate a derived dataset. \n",
    "\n",
    "##data is sourced from https://sparc.science/datasets/262?type=dataset\n",
    "##executed with python 3.10\n",
    "\n",
    "## Requirements\n",
    "pip install sparc_me\n",
    "pip install pyeCAP\n",
    "# Using sparc_me to download an existing curated SDS\n"
   ]
  },
  {
   "cell_type": "code",
   "execution_count": 6,
   "id": "4b6dccd7",
   "metadata": {},
   "outputs": [],
   "source": [
    "from sparc_me import Dataset_Api\n",
    "api_tools = Dataset_Api()\n",
    "\n",
    "dataset = api_tools.get_dataset_latest_version_pensieve(262)"
   ]
  },
  {
   "cell_type": "markdown",
   "id": "ae01bd43",
   "metadata": {},
   "source": [
    "Sparc_me allows us to verify that we have identified the correct data set by simply inspecting the name of the dataset"
   ]
  },
  {
   "cell_type": "code",
   "execution_count": 7,
   "id": "989082b6",
   "metadata": {},
   "outputs": [
    {
     "data": {
      "text/plain": [
       "{'id': 262,\n",
       " 'sourceDatasetId': 1595,\n",
       " 'name': 'Electrode design characterization for electrophysiology from swine peripheral nervous system',\n",
       " 'description': 'Comparison of cuff, microelectrode, and intrafascicular electrode to make evoked compound action potential (ECAP) and naturally occurring activity recordings from the peripheral nervous system. Dataset from pigs (n=3) - a human-scale large animal model.',\n",
       " 'ownerId': 833,\n",
       " 'ownerFirstName': 'Kip',\n",
       " 'ownerLastName': 'Ludwig',\n",
       " 'ownerOrcid': '0000-0003-4889-1941',\n",
       " 'organizationName': 'SPARC Consortium',\n",
       " 'organizationId': 367,\n",
       " 'license': 'Creative Commons Attribution',\n",
       " 'tags': ['electrode design', 'electrophysiology', 'vagus nerve stimulation'],\n",
       " 'version': 1,\n",
       " 'revision': None,\n",
       " 'size': 29634047863,\n",
       " 'modelCount': [{'modelName': 'researcher', 'count': 2},\n",
       "  {'modelName': 'human_subject', 'count': 0},\n",
       "  {'modelName': 'animal_subject', 'count': 6},\n",
       "  {'modelName': 'sample', 'count': 0},\n",
       "  {'modelName': 'term', 'count': 1},\n",
       "  {'modelName': 'award', 'count': 1},\n",
       "  {'modelName': 'protocol', 'count': 1},\n",
       "  {'modelName': 'summary', 'count': 5}],\n",
       " 'fileCount': 722,\n",
       " 'recordCount': 16,\n",
       " 'uri': 's3://pennsieve-prod-discover-publish-use1/262/1/',\n",
       " 'arn': 'arn:aws:s3:::pennsieve-prod-discover-publish-use1/262/1/',\n",
       " 'status': 'PUBLISH_SUCCEEDED',\n",
       " 'doi': '10.26275/vm1h-k4kq',\n",
       " 'banner': 'https://assets.discover.pennsieve.io/dataset-assets/262/1/banner.jpg',\n",
       " 'readme': 'https://assets.discover.pennsieve.io/dataset-assets/262/1/readme.md',\n",
       " 'contributors': [{'firstName': 'Kip',\n",
       "   'middleInitial': 'A',\n",
       "   'lastName': 'Ludwig',\n",
       "   'degree': 'Ph.D.',\n",
       "   'orcid': '0000-0003-4889-1941'},\n",
       "  {'firstName': 'Nishant',\n",
       "   'middleInitial': None,\n",
       "   'lastName': 'Verma',\n",
       "   'degree': None,\n",
       "   'orcid': '0000-0002-7657-0275'}],\n",
       " 'collections': [{'id': 279,\n",
       "   'name': 'Electrode design characterization for electrophysiology from peripheral nervous system'}],\n",
       " 'externalPublications': [{'doi': '10.17504/protocols.io.j8nlkk6n5l5r/v1',\n",
       "   'relationshipType': 'IsSupplementedBy'}],\n",
       " 'sponsorship': None,\n",
       " 'pennsieveSchemaVersion': '4.0',\n",
       " 'createdAt': '2022-07-14T21:39:41.592068Z',\n",
       " 'updatedAt': '2023-08-06T06:27:50.944413Z',\n",
       " 'firstPublishedAt': '2022-07-14T21:39:41.586248Z',\n",
       " 'versionPublishedAt': '2022-07-14T21:39:41.592068Z',\n",
       " 'revisedAt': None,\n",
       " 'embargo': False,\n",
       " 'embargoReleaseDate': '2022-07-07',\n",
       " 'embargoAccess': None}"
      ]
     },
     "execution_count": 7,
     "metadata": {},
     "output_type": "execute_result"
    }
   ],
   "source": [
    "dataset"
   ]
  },
  {
   "cell_type": "code",
   "execution_count": 8,
   "id": "edd0c162",
   "metadata": {},
   "outputs": [
    {
     "data": {
      "text/plain": [
       "'Electrode design characterization for electrophysiology from swine peripheral nervous system'"
      ]
     },
     "execution_count": 8,
     "metadata": {},
     "output_type": "execute_result"
    }
   ],
   "source": [
    "dataset[\"name\"]"
   ]
  },
  {
   "cell_type": "markdown",
   "id": "db11b3cc",
   "metadata": {},
   "source": [
    "From this dataset we are interested in sub-1. We can use sparc_me to download the subject data.\n",
    "However, we commented the download code below because the example dataset is too large (>29.63 GB)"
   ]
  },
  {
   "cell_type": "code",
   "execution_count": 9,
   "id": "2af8a2b2",
   "metadata": {},
   "outputs": [],
   "source": [
    "# api_tools.download_dataset(dataset[\"id\"])"
   ]
  },
  {
   "cell_type": "markdown",
   "id": "056de68e",
   "metadata": {},
   "source": [
    "The published SDS included a python file to process the raw recordings, a modified version of this has been included. "
   ]
  },
  {
   "cell_type": "code",
   "execution_count": 10,
   "id": "c2908dc6",
   "metadata": {},
   "outputs": [
    {
     "ename": "FileNotFoundError",
     "evalue": "time.txt not found.",
     "output_type": "error",
     "traceback": [
      "\u001B[1;31m---------------------------------------------------------------------------\u001B[0m",
      "\u001B[1;31mFileNotFoundError\u001B[0m                         Traceback (most recent call last)",
      "File \u001B[1;32m~\\Desktop\\sparc-codathon\\2023-team-3\\tutorials\\resources\\tutorial_1\\data_processing_example.py:60\u001B[0m\n\u001B[0;32m     58\u001B[0m \u001B[38;5;28;01melse\u001B[39;00m:\n\u001B[0;32m     59\u001B[0m     fig, ax \u001B[38;5;241m=\u001B[39m plt\u001B[38;5;241m.\u001B[39msubplots(figsize\u001B[38;5;241m=\u001B[39m(\u001B[38;5;241m15\u001B[39m,\u001B[38;5;241m5\u001B[39m))\n\u001B[1;32m---> 60\u001B[0m     time \u001B[38;5;241m=\u001B[39m \u001B[43mnp\u001B[49m\u001B[38;5;241;43m.\u001B[39;49m\u001B[43mloadtxt\u001B[49m\u001B[43m(\u001B[49m\u001B[38;5;124;43m'\u001B[39;49m\u001B[38;5;124;43mtime.txt\u001B[39;49m\u001B[38;5;124;43m'\u001B[39;49m\u001B[43m)\u001B[49m\n\u001B[0;32m     61\u001B[0m     \u001B[38;5;28;01mfor\u001B[39;00m i \u001B[38;5;129;01min\u001B[39;00m [\u001B[38;5;241m0\u001B[39m, \u001B[38;5;241m2\u001B[39m, \u001B[38;5;241m4\u001B[39m]:  \u001B[38;5;66;03m# add desired channels to plot here\u001B[39;00m\n\u001B[0;32m     62\u001B[0m         voltage \u001B[38;5;241m=\u001B[39m np\u001B[38;5;241m.\u001B[39mloadtxt(\u001B[38;5;124m'\u001B[39m\u001B[38;5;124mvoltage_\u001B[39m\u001B[38;5;132;01m{}\u001B[39;00m\u001B[38;5;124m.txt\u001B[39m\u001B[38;5;124m'\u001B[39m\u001B[38;5;241m.\u001B[39mformat(i))\n",
      "File \u001B[1;32m~\\Desktop\\sparc-codathon\\2023-team-3\\venv\\lib\\site-packages\\numpy\\lib\\npyio.py:1373\u001B[0m, in \u001B[0;36mloadtxt\u001B[1;34m(fname, dtype, comments, delimiter, converters, skiprows, usecols, unpack, ndmin, encoding, max_rows, quotechar, like)\u001B[0m\n\u001B[0;32m   1370\u001B[0m \u001B[38;5;28;01mif\u001B[39;00m \u001B[38;5;28misinstance\u001B[39m(delimiter, \u001B[38;5;28mbytes\u001B[39m):\n\u001B[0;32m   1371\u001B[0m     delimiter \u001B[38;5;241m=\u001B[39m delimiter\u001B[38;5;241m.\u001B[39mdecode(\u001B[38;5;124m'\u001B[39m\u001B[38;5;124mlatin1\u001B[39m\u001B[38;5;124m'\u001B[39m)\n\u001B[1;32m-> 1373\u001B[0m arr \u001B[38;5;241m=\u001B[39m \u001B[43m_read\u001B[49m\u001B[43m(\u001B[49m\u001B[43mfname\u001B[49m\u001B[43m,\u001B[49m\u001B[43m \u001B[49m\u001B[43mdtype\u001B[49m\u001B[38;5;241;43m=\u001B[39;49m\u001B[43mdtype\u001B[49m\u001B[43m,\u001B[49m\u001B[43m \u001B[49m\u001B[43mcomment\u001B[49m\u001B[38;5;241;43m=\u001B[39;49m\u001B[43mcomment\u001B[49m\u001B[43m,\u001B[49m\u001B[43m \u001B[49m\u001B[43mdelimiter\u001B[49m\u001B[38;5;241;43m=\u001B[39;49m\u001B[43mdelimiter\u001B[49m\u001B[43m,\u001B[49m\n\u001B[0;32m   1374\u001B[0m \u001B[43m            \u001B[49m\u001B[43mconverters\u001B[49m\u001B[38;5;241;43m=\u001B[39;49m\u001B[43mconverters\u001B[49m\u001B[43m,\u001B[49m\u001B[43m \u001B[49m\u001B[43mskiplines\u001B[49m\u001B[38;5;241;43m=\u001B[39;49m\u001B[43mskiprows\u001B[49m\u001B[43m,\u001B[49m\u001B[43m \u001B[49m\u001B[43musecols\u001B[49m\u001B[38;5;241;43m=\u001B[39;49m\u001B[43musecols\u001B[49m\u001B[43m,\u001B[49m\n\u001B[0;32m   1375\u001B[0m \u001B[43m            \u001B[49m\u001B[43munpack\u001B[49m\u001B[38;5;241;43m=\u001B[39;49m\u001B[43munpack\u001B[49m\u001B[43m,\u001B[49m\u001B[43m \u001B[49m\u001B[43mndmin\u001B[49m\u001B[38;5;241;43m=\u001B[39;49m\u001B[43mndmin\u001B[49m\u001B[43m,\u001B[49m\u001B[43m \u001B[49m\u001B[43mencoding\u001B[49m\u001B[38;5;241;43m=\u001B[39;49m\u001B[43mencoding\u001B[49m\u001B[43m,\u001B[49m\n\u001B[0;32m   1376\u001B[0m \u001B[43m            \u001B[49m\u001B[43mmax_rows\u001B[49m\u001B[38;5;241;43m=\u001B[39;49m\u001B[43mmax_rows\u001B[49m\u001B[43m,\u001B[49m\u001B[43m \u001B[49m\u001B[43mquote\u001B[49m\u001B[38;5;241;43m=\u001B[39;49m\u001B[43mquotechar\u001B[49m\u001B[43m)\u001B[49m\n\u001B[0;32m   1378\u001B[0m \u001B[38;5;28;01mreturn\u001B[39;00m arr\n",
      "File \u001B[1;32m~\\Desktop\\sparc-codathon\\2023-team-3\\venv\\lib\\site-packages\\numpy\\lib\\npyio.py:992\u001B[0m, in \u001B[0;36m_read\u001B[1;34m(fname, delimiter, comment, quote, imaginary_unit, usecols, skiplines, max_rows, converters, ndmin, unpack, dtype, encoding)\u001B[0m\n\u001B[0;32m    990\u001B[0m     fname \u001B[38;5;241m=\u001B[39m os\u001B[38;5;241m.\u001B[39mfspath(fname)\n\u001B[0;32m    991\u001B[0m \u001B[38;5;28;01mif\u001B[39;00m \u001B[38;5;28misinstance\u001B[39m(fname, \u001B[38;5;28mstr\u001B[39m):\n\u001B[1;32m--> 992\u001B[0m     fh \u001B[38;5;241m=\u001B[39m \u001B[43mnp\u001B[49m\u001B[38;5;241;43m.\u001B[39;49m\u001B[43mlib\u001B[49m\u001B[38;5;241;43m.\u001B[39;49m\u001B[43m_datasource\u001B[49m\u001B[38;5;241;43m.\u001B[39;49m\u001B[43mopen\u001B[49m\u001B[43m(\u001B[49m\u001B[43mfname\u001B[49m\u001B[43m,\u001B[49m\u001B[43m \u001B[49m\u001B[38;5;124;43m'\u001B[39;49m\u001B[38;5;124;43mrt\u001B[39;49m\u001B[38;5;124;43m'\u001B[39;49m\u001B[43m,\u001B[49m\u001B[43m \u001B[49m\u001B[43mencoding\u001B[49m\u001B[38;5;241;43m=\u001B[39;49m\u001B[43mencoding\u001B[49m\u001B[43m)\u001B[49m\n\u001B[0;32m    993\u001B[0m     \u001B[38;5;28;01mif\u001B[39;00m encoding \u001B[38;5;129;01mis\u001B[39;00m \u001B[38;5;28;01mNone\u001B[39;00m:\n\u001B[0;32m    994\u001B[0m         encoding \u001B[38;5;241m=\u001B[39m \u001B[38;5;28mgetattr\u001B[39m(fh, \u001B[38;5;124m'\u001B[39m\u001B[38;5;124mencoding\u001B[39m\u001B[38;5;124m'\u001B[39m, \u001B[38;5;124m'\u001B[39m\u001B[38;5;124mlatin1\u001B[39m\u001B[38;5;124m'\u001B[39m)\n",
      "File \u001B[1;32m~\\Desktop\\sparc-codathon\\2023-team-3\\venv\\lib\\site-packages\\numpy\\lib\\_datasource.py:193\u001B[0m, in \u001B[0;36mopen\u001B[1;34m(path, mode, destpath, encoding, newline)\u001B[0m\n\u001B[0;32m    156\u001B[0m \u001B[38;5;250m\u001B[39m\u001B[38;5;124;03m\"\"\"\u001B[39;00m\n\u001B[0;32m    157\u001B[0m \u001B[38;5;124;03mOpen `path` with `mode` and return the file object.\u001B[39;00m\n\u001B[0;32m    158\u001B[0m \n\u001B[1;32m   (...)\u001B[0m\n\u001B[0;32m    189\u001B[0m \n\u001B[0;32m    190\u001B[0m \u001B[38;5;124;03m\"\"\"\u001B[39;00m\n\u001B[0;32m    192\u001B[0m ds \u001B[38;5;241m=\u001B[39m DataSource(destpath)\n\u001B[1;32m--> 193\u001B[0m \u001B[38;5;28;01mreturn\u001B[39;00m \u001B[43mds\u001B[49m\u001B[38;5;241;43m.\u001B[39;49m\u001B[43mopen\u001B[49m\u001B[43m(\u001B[49m\u001B[43mpath\u001B[49m\u001B[43m,\u001B[49m\u001B[43m \u001B[49m\u001B[43mmode\u001B[49m\u001B[43m,\u001B[49m\u001B[43m \u001B[49m\u001B[43mencoding\u001B[49m\u001B[38;5;241;43m=\u001B[39;49m\u001B[43mencoding\u001B[49m\u001B[43m,\u001B[49m\u001B[43m \u001B[49m\u001B[43mnewline\u001B[49m\u001B[38;5;241;43m=\u001B[39;49m\u001B[43mnewline\u001B[49m\u001B[43m)\u001B[49m\n",
      "File \u001B[1;32m~\\Desktop\\sparc-codathon\\2023-team-3\\venv\\lib\\site-packages\\numpy\\lib\\_datasource.py:533\u001B[0m, in \u001B[0;36mDataSource.open\u001B[1;34m(self, path, mode, encoding, newline)\u001B[0m\n\u001B[0;32m    530\u001B[0m     \u001B[38;5;28;01mreturn\u001B[39;00m _file_openers[ext](found, mode\u001B[38;5;241m=\u001B[39mmode,\n\u001B[0;32m    531\u001B[0m                               encoding\u001B[38;5;241m=\u001B[39mencoding, newline\u001B[38;5;241m=\u001B[39mnewline)\n\u001B[0;32m    532\u001B[0m \u001B[38;5;28;01melse\u001B[39;00m:\n\u001B[1;32m--> 533\u001B[0m     \u001B[38;5;28;01mraise\u001B[39;00m \u001B[38;5;167;01mFileNotFoundError\u001B[39;00m(\u001B[38;5;124mf\u001B[39m\u001B[38;5;124m\"\u001B[39m\u001B[38;5;132;01m{\u001B[39;00mpath\u001B[38;5;132;01m}\u001B[39;00m\u001B[38;5;124m not found.\u001B[39m\u001B[38;5;124m\"\u001B[39m)\n",
      "\u001B[1;31mFileNotFoundError\u001B[0m: time.txt not found."
     ]
    },
    {
     "data": {
      "image/png": "[encoded data removed]",
      "text/plain": [
       "<Figure size 1500x500 with 1 Axes>"
      ]
     },
     "metadata": {},
     "output_type": "display_data"
    }
   ],
   "source": [
    "%run -i \"./resources/tutorial_1/data_processing_example.py\""
   ]
  },
  {
   "cell_type": "code",
   "execution_count": null,
   "outputs": [],
   "source": [],
   "metadata": {
    "collapsed": false,
    "pycharm": {
     "name": "#%%\n"
    }
   }
  },
  {
   "cell_type": "code",
   "execution_count": null,
   "id": "305cf381",
   "metadata": {
    "collapsed": false,
    "jupyter": {
     "outputs_hidden": false
    },
    "pycharm": {
     "name": "#%%\n"
    }
   },
   "outputs": [],
   "source": []
  },
  {
   "cell_type": "code",
   "execution_count": null,
   "id": "12e1ec2d",
   "metadata": {
    "pycharm": {
     "name": "#%%\n"
    }
   },
   "outputs": [],
   "source": []
  },
  {
   "cell_type": "code",
   "execution_count": null,
   "id": "1835024b-19a4-4e3f-ac04-f6ffb9642a59",
   "metadata": {},
   "outputs": [],
   "source": []
  }
 ],
 "metadata": {
  "kernelspec": {
   "display_name": "Python 3 (ipykernel)",
   "language": "python",
   "name": "python3"
  },
  "language_info": {
   "codemirror_mode": {
    "name": "ipython",
    "version": 3
   },
   "file_extension": ".py",
   "mimetype": "text/x-python",
   "name": "python",
   "nbconvert_exporter": "python",
   "pygments_lexer": "ipython3",
   "version": "3.9.0"
  }
 },
 "nbformat": 4,
 "nbformat_minor": 5
}