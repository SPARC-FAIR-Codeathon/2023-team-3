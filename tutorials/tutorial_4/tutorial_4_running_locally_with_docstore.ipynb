{
 "cells": [
  {
   "cell_type": "markdown",
   "id": "f214bba9",
   "metadata": {},
   "source": [
    "# Tutorial 4: Running a work flow locally using docstore\n",
    "Here we use sparc-flow to run the standardised workflow described in Tutorial 2 locally using Dockstore.\n"
   ]
  },
  {
   "cell_type": "code",
   "execution_count": null,
   "id": "9c9e3d7c",
   "metadata": {},
   "outputs": [],
   "source": []
  },
  {
   "cell_type": "markdown",
   "id": "fc65e2f3",
   "metadata": {},
   "source": []
  }
 ],
 "metadata": {
  "kernelspec": {
   "display_name": "Python 3 (ipykernel)",
   "language": "python",
   "name": "python3"
  },
  "language_info": {
   "codemirror_mode": {
    "name": "ipython",
    "version": 3
   },
   "file_extension": ".py",
   "mimetype": "text/x-python",
   "name": "python",
   "nbconvert_exporter": "python",
   "pygments_lexer": "ipython3",
   "version": "3.9.16"
  }
 },
 "nbformat": 4,
 "nbformat_minor": 5
}
