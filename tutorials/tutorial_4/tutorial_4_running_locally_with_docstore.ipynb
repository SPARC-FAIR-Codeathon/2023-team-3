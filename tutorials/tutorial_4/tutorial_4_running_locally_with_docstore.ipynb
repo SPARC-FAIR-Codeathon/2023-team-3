{
 "cells": [
  {
   "cell_type": "markdown",
   "id": "152adba9",
   "metadata": {},
   "source": [
    "# Tutorial 4: Running a workflow locally using docstore\n",
    "This tutorial will use sparc-flow to run the standardised workflow described in Tutorial 2 locally using Dockstore.\n",
    "\n",
    "## Installing Dockstore\n",
    "\n",
    "## Requirements \n",
    "pip install sparc_flow\n",
    "\n",
    "## Loading a workflow"
   ]
  },
  {
   "cell_type": "code",
   "execution_count": null,
   "id": "5e7849db",
   "metadata": {},
   "outputs": [],
   "source": [
    "import sparc_flow\n",
    "\n",
    "# In this instance we are loading a workflow from a local dataset. \n",
    "\n",
    "workflow = sparc_flow.load_workflows(\"../../resources/workflow_dataset\")"
   ]
  },
  {
   "cell_type": "markdown",
   "id": "9040fa0c",
   "metadata": {},
   "source": [
    "This grabs the workflow description along with the necessary tools. We can now execute this workflow by using the sparc_flow run method. The workflow run method uses the command cwltool on the workflow.cwl and inp_job.json files.\n",
    "\n",
    "## Executing workflow using doctstore\n",
    "The default "
   ]
  },
  {
   "cell_type": "code",
   "execution_count": null,
   "id": "cd18bdbd",
   "metadata": {},
   "outputs": [],
   "source": []
  }
 ],
 "metadata": {
  "kernelspec": {
   "display_name": "Python 3 (ipykernel)",
   "language": "python",
   "name": "python3"
  },
  "language_info": {
   "codemirror_mode": {
    "name": "ipython",
    "version": 3
   },
   "file_extension": ".py",
   "mimetype": "text/x-python",
   "name": "python",
   "nbconvert_exporter": "python",
   "pygments_lexer": "ipython3",
   "version": "3.9.16"
  }
 },
 "nbformat": 4,
 "nbformat_minor": 5
}
