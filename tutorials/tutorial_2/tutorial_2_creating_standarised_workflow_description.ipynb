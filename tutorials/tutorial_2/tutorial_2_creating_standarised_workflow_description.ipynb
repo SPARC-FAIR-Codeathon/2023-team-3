{
 "cells": [
  {
   "attachments": {},
   "cell_type": "markdown",
   "id": "d11c31ec",
   "metadata": {},
   "source": [
    "# Tutorial 2: Creating standardised workflow description\n",
    "This tutorial shows how to create a standardised work flow (CWL) description using the sparc_flow package. \n"
   ]
  },
  {
   "cell_type": "code",
   "execution_count": null,
   "id": "8f28bf9a",
   "metadata": {},
   "outputs": [],
   "source": [
    "try:\n",
    "    import sparc_flow \n",
    "except Exception:\n",
    "    print(\"Please run on linux, sparc_flow does not yet support windows\")"
   ]
  },
  {
   "attachments": {},
   "cell_type": "markdown",
   "id": "28c29b8e",
   "metadata": {},
   "source": [
    "# automatically generate a CWL workflow using sparc_flow:"
   ]
  },
  {
   "cell_type": "code",
   "execution_count": null,
   "id": "799de4f9",
   "metadata": {},
   "outputs": [],
   "source": [
    "workflow = sparc_flow.Workflow()\n",
    "workflow.set_steps(tool_path=\"examples/sparc_flow_api_example/tools\") \n",
    "workflow.set_input_value(input_value = 262, input_name = \"number\", input_type = \"int\")\n",
    "workflow.generate_description() \n",
    "# workflow.generate_sds()\n"
   ]
  },
  {
   "attachments": {},
   "cell_type": "markdown",
   "id": "279fdacd",
   "metadata": {},
   "source": [
    "# Automatically generate a CWL file for a tool using sparc_flow:\n"
   ]
  },
  {
   "cell_type": "code",
   "execution_count": null,
   "id": "040a96ad",
   "metadata": {},
   "outputs": [],
   "source": [
    "\n",
    "tool = sparc_flow.Tool() \n",
    "tool.set_tool_dir(\"examples/sparc_flow_api_example/tools\")\n",
    "tool.set_command([\"python\", \"-m\", \"examples.sparc_workflow_example.tools.sparc_data_tool\"])\n",
    "tool.set_input_type(\"int\")\n",
    "tool.set_output_type(\"File\")\n",
    "tool.set_output_path(\"sparc_data_tool.txt\")\n",
    "tool.generate_description()\n",
    "# tool.generate_sds()"
   ]
  }
 ],
 "metadata": {
  "kernelspec": {
   "display_name": "Python 3 (ipykernel)",
   "language": "python",
   "name": "python3"
  },
  "language_info": {
   "codemirror_mode": {
    "name": "ipython",
    "version": 3
   },
   "file_extension": ".py",
   "mimetype": "text/x-python",
   "name": "python",
   "nbconvert_exporter": "python",
   "pygments_lexer": "ipython3",
   "version": "3.9.16"
  }
 },
 "nbformat": 4,
 "nbformat_minor": 5
}
