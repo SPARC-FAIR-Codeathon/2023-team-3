{
 "cells": [
  {
   "cell_type": "markdown",
   "id": "d11c31ec",
   "metadata": {},
   "source": [
    "# Tutorial 2: Creating standardised workflow description\n",
    "This tutorial shows how to create a standardised workflow (CWL) description using the sparc_flow package for the same operations as seen in tutorial 1. At each step of the process the CWL file is saved within a SDS structure in keeping with FAIR principles. \n",
    "\n",
    "To ensure our workflow adheres to the FAIR principles:\n",
    "- We published our workflow, along with the metadata, on Dockstore. This makes it easily findable for those interested in using it.\n",
    "- We chose Dockerstore for publishing our workflow to promote its accessibility as Dockstore does not require users to sign in to search for published content. Furthermore, we obtained a Digital Object Identifier (DOI) for our workflow via Zenodo through Dockstore, ensuring it can be readily accessed by interested parties.\n",
    "- We employed CWL to describe our workflow to ensure our workflow is interoperable. CWL is designed to describe workflows in an environment-agnostic and portable way, making them compatible across various platforms including Dockstore. We also provided a parameter file (JSON) contaiining example parameters for lauching our workflow.\n",
    "- We provided a thorough README in the git repository to ensure the workflow's reusability. Our sparc-flow module is fully open source and distributed under the very permissive Apache License 2.0 as stated in the README. \n",
    "\n",
    "\n",
    "## Requirements\n",
    "pip install sparc_flow"
   ]
  },
  {
   "cell_type": "code",
   "execution_count": 1,
   "id": "8f28bf9a",
   "metadata": {},
   "outputs": [],
   "source": [
    "try:\n",
    "    import sparc_flow \n",
    "except Exception:\n",
    "    print(\"Please run on linux, sparc_flow does not yet support windows\")"
   ]
  },
  {
   "cell_type": "markdown",
   "id": "279fdacd",
   "metadata": {},
   "source": [
    "## Automatically generate a CWL file for a tool using sparc_flow:\n",
    "Now we use the sparc_flow tool to generate a CWL file for a specified tool. This tool is then saved within the primary folder of a SDS structure."
   ]
  },
  {
   "cell_type": "code",
   "execution_count": 2,
   "id": "040a96ad",
   "metadata": {},
   "outputs": [
    {
     "ename": "FileNotFoundError",
     "evalue": "[Errno 2] No such file or directory: 'tutorial_2/tools/sparc_data_tool.cwl'",
     "output_type": "error",
     "traceback": [
      "\u001b[0;31m---------------------------------------------------------------------------\u001b[0m",
      "\u001b[0;31mFileNotFoundError\u001b[0m                         Traceback (most recent call last)",
      "Cell \u001b[0;32mIn[2], line 8\u001b[0m\n\u001b[1;32m      6\u001b[0m tool\u001b[39m.\u001b[39mset_output_type(\u001b[39m\"\u001b[39m\u001b[39mFile\u001b[39m\u001b[39m\"\u001b[39m)\n\u001b[1;32m      7\u001b[0m tool\u001b[39m.\u001b[39mset_output_path(\u001b[39m\"\u001b[39m\u001b[39moutput.txt\u001b[39m\u001b[39m\"\u001b[39m)\n\u001b[0;32m----> 8\u001b[0m tool\u001b[39m.\u001b[39;49mgenerate_description()\n\u001b[1;32m     10\u001b[0m \u001b[39m# tool.generate_sds()\u001b[39;00m\n\u001b[1;32m     11\u001b[0m \u001b[39m## *This should save to new SDS in resources folder. Akk stored in promary\u001b[39;00m\n",
      "File \u001b[0;32m~/src/2023-team-3/sparc_flow/core/workflow.py:190\u001b[0m, in \u001b[0;36mTool.generate_description\u001b[0;34m(self)\u001b[0m\n\u001b[1;32m    171\u001b[0m     \u001b[39mdef\u001b[39;00m \u001b[39mgenerate_description\u001b[39m(\u001b[39mself\u001b[39m):\n\u001b[1;32m    172\u001b[0m         description \u001b[39m=\u001b[39m \u001b[39mf\u001b[39m\u001b[39m\"\"\"\u001b[39m\u001b[39m#!/usr/bin/env cwl-runner\u001b[39m\n\u001b[1;32m    173\u001b[0m \u001b[39mcwlVersion: v1.0\u001b[39m\n\u001b[1;32m    174\u001b[0m \u001b[39mclass: CommandLineTool\u001b[39m\n\u001b[0;32m   (...)\u001b[0m\n\u001b[1;32m    187\u001b[0m \u001b[39m            glob: \u001b[39m\u001b[39m{\u001b[39;00m\u001b[39mself\u001b[39m\u001b[39m.\u001b[39moutput_path\u001b[39m}\u001b[39;00m\n\u001b[1;32m    188\u001b[0m \u001b[39m                            \u001b[39m\u001b[39m\"\"\"\u001b[39m\n\u001b[0;32m--> 190\u001b[0m         \u001b[39mwith\u001b[39;00m \u001b[39mopen\u001b[39;49m(\u001b[39mf\u001b[39;49m\u001b[39m'\u001b[39;49m\u001b[39m{\u001b[39;49;00m\u001b[39mself\u001b[39;49m\u001b[39m.\u001b[39;49mtool_dir\u001b[39m}\u001b[39;49;00m\u001b[39m/\u001b[39;49m\u001b[39m{\u001b[39;49;00m\u001b[39mself\u001b[39;49m\u001b[39m.\u001b[39;49mtool_name\u001b[39m}\u001b[39;49;00m\u001b[39m.cwl\u001b[39;49m\u001b[39m'\u001b[39;49m, \u001b[39m'\u001b[39;49m\u001b[39mw\u001b[39;49m\u001b[39m'\u001b[39;49m) \u001b[39mas\u001b[39;00m f:\n\u001b[1;32m    191\u001b[0m             f\u001b[39m.\u001b[39mwrite(description)\n",
      "\u001b[0;31mFileNotFoundError\u001b[0m: [Errno 2] No such file or directory: 'tutorial_2/tools/sparc_data_tool.cwl'"
     ]
    }
   ],
   "source": [
    "\n",
    "tool = sparc_flow.Tool() \n",
    "tool.set_tool_name(\"sparc_data_tool\")\n",
    "tool.set_tool_dir(\"../tutorial_2/tools\")\n",
    "tool.set_command([\"python\", \"-m\", \"examples.sparc_workflow_example.tools.sparc_data_tool\"])\n",
    "tool.set_input_type(\"int\")\n",
    "tool.set_output_type(\"File\")\n",
    "tool.set_output_path(\"output.txt\")\n",
    "tool.generate_description()\n"
   ]
  },
  {
   "cell_type": "markdown",
   "id": "28c29b8e",
   "metadata": {},
   "source": [
    "## Automatically generate a CWL workflow using sparc_flow:\n",
    "Here we use the sparc_flow tool to generate a CWL file for the desired work flow. In this case we are continuing with the SPARC dataset (id = 262) used in tutorial 1. The resulting work flow is saved within a SDS structure. Sparc_flow also grabs the necessary tools for operation and stores them alongside the workflow within the primary folder of a SDS. \n"
   ]
  },
  {
   "cell_type": "code",
   "execution_count": null,
   "id": "799de4f9",
   "metadata": {},
   "outputs": [],
   "source": [
    "workflow = sparc_flow.Workflow()\n",
    "workflow.set_steps(tool_path=\"../examples/sparc_flow_example/tools\") \n",
    "workflow.set_input_value(input_value = 262, input_name = \"number\", input_type = \"int\")\n",
    "workflow.generate_description() \n"
   ]
  }
 ],
 "metadata": {
  "kernelspec": {
   "display_name": "Python 3 (ipykernel)",
   "language": "python",
   "name": "python3"
  },
  "language_info": {
   "codemirror_mode": {
    "name": "ipython",
    "version": 3
   },
   "file_extension": ".py",
   "mimetype": "text/x-python",
   "name": "python",
   "nbconvert_exporter": "python",
   "pygments_lexer": "ipython3",
   "version": "3.9.16"
  }
 },
 "nbformat": 4,
 "nbformat_minor": 5
}
