{
 "cells": [
  {
   "attachments": {},
   "cell_type": "markdown",
   "id": "d11c31ec",
   "metadata": {},
   "source": [
    "# Tutorial 2: Creating standardised workflow description\n",
    "This tutorial shows how to create a standardised work flow (CWL) description using the sparc_flow package for the same operations as seen in tutorial 1. At each step of the process the CWL file is saved within a SDS structure in keeping with FAIR principles.\n",
    "\n",
    "To ensure our workflow adheres to the FAIR principles:\n",
    "- We published our workflow, along with the metadata, on Dockstore. This makes it easily findable for those interested in using it.\n",
    "- We chose Dockstore for publishing our workflow to promote its accessibility as Dockstore does not require users to sign in to search for published content. In the future, we will obtain a Digital Object Identifier (DOI) for our workflow via Zenodo through Dockstore, ensuring it can be readily accessed by interested parties.\n",
    "- We employed CWL to describe our workflow to ensure our workflow is interoperable. CWL is designed to describe workflows in an environment-agnostic and portable way, making them compatible across various platforms including Dockstore. We also provided a parameter file (JSON) contaiining example parameters for lauching our workflow.\n",
    "- We provided a thorough README in the git repository to ensure the workflow’s reusability. Our sparc-flow module is fully open source and distributed under the very permissive Apache License 2.0 as stated in the README.\n",
    "\n",
    "\n",
    "## Requirements"
   ]
  },
  {
   "cell_type": "code",
   "execution_count": null,
   "id": "06a86f9e",
   "metadata": {},
   "outputs": [],
   "source": [
    "pip install sparc_flow"
   ]
  },
  {
   "cell_type": "code",
   "execution_count": 1,
   "id": "8f28bf9a",
   "metadata": {},
   "outputs": [],
   "source": [
    "try:\n",
    "    import sparc_flow \n",
    "except Exception:\n",
    "    print(\"Please run on linux, sparc_flow does not yet support windows\")"
   ]
  },
  {
   "attachments": {},
   "cell_type": "markdown",
   "id": "279fdacd",
   "metadata": {},
   "source": [
    "## Automatically generate a CWL file for a tool using sparc_flow:\n",
    "Now we use the sparc_flow tool to generate a CWL file for a specified tool. This tool is then saved within the primary folder of a SDS structure."
   ]
  },
  {
   "cell_type": "code",
   "execution_count": 2,
   "id": "040a96ad",
   "metadata": {},
   "outputs": [
    {
     "name": "stderr",
     "output_type": "stream",
     "text": [
      "/home/mfre190/anaconda3/envs/sparc/lib/python3.9/site-packages/sparc_me/core/dataset.py:260: FutureWarning:save is not part of the public API, usage can give unexpected results and will be removed in a future version\n",
      "/home/mfre190/anaconda3/envs/sparc/lib/python3.9/site-packages/sparc_me/core/dataset.py:260: FutureWarning:save is not part of the public API, usage can give unexpected results and will be removed in a future version\n",
      "/home/mfre190/anaconda3/envs/sparc/lib/python3.9/site-packages/sparc_me/core/dataset.py:260: FutureWarning:save is not part of the public API, usage can give unexpected results and will be removed in a future version\n",
      "/home/mfre190/anaconda3/envs/sparc/lib/python3.9/site-packages/sparc_me/core/dataset.py:260: FutureWarning:save is not part of the public API, usage can give unexpected results and will be removed in a future version\n",
      "/home/mfre190/anaconda3/envs/sparc/lib/python3.9/site-packages/sparc_me/core/dataset.py:260: FutureWarning:save is not part of the public API, usage can give unexpected results and will be removed in a future version\n",
      "/home/mfre190/anaconda3/envs/sparc/lib/python3.9/site-packages/sparc_me/core/dataset.py:260: FutureWarning:save is not part of the public API, usage can give unexpected results and will be removed in a future version\n",
      "/home/mfre190/anaconda3/envs/sparc/lib/python3.9/site-packages/sparc_me/core/dataset.py:260: FutureWarning:save is not part of the public API, usage can give unexpected results and will be removed in a future version\n",
      "/home/mfre190/anaconda3/envs/sparc/lib/python3.9/site-packages/sparc_me/core/dataset.py:260: FutureWarning:save is not part of the public API, usage can give unexpected results and will be removed in a future version\n",
      "/home/mfre190/anaconda3/envs/sparc/lib/python3.9/site-packages/sparc_me/core/dataset.py:260: FutureWarning:save is not part of the public API, usage can give unexpected results and will be removed in a future version\n",
      "/home/mfre190/anaconda3/envs/sparc/lib/python3.9/site-packages/sparc_me/core/dataset.py:260: FutureWarning:save is not part of the public API, usage can give unexpected results and will be removed in a future version\n"
     ]
    }
   ],
   "source": [
    "tool = sparc_flow.Tool() \n",
    "tool.set_tool_name(\"sparc_data_tool\")\n",
    "tool.set_tool_dir(\"../tutorial_2/tools\")\n",
    "tool.set_command([\"python\", \"-m\", \"tools.sparc_data_tool\"])\n",
    "tool.set_input_type(\"int\")\n",
    "tool.set_output_type(\"File\")\n",
    "tool.set_output_path(\"output.txt\")\n",
    "tool.generate_description() \n",
    "tool.create_sds(\"../resources/tutorial_2_resources/tools_dataset\", \"tools/\")\n",
    "\n",
    "# tool.generate_sds()\n",
    "## *This should save to new SDS in resources folder. Akk stored in promary"
   ]
  },
  {
   "attachments": {},
   "cell_type": "markdown",
   "id": "28c29b8e",
   "metadata": {},
   "source": [
    "## Automatically generate a CWL workflow using sparc_flow:\n",
    "Here we use the sparc_flow tool to generate a CWL file for the desired work flow. In this case we are continuing with the SPARC dataset (id = 262) used in tutorial 1. The resulting work flow is saved within a SDS structure. Sparc_flow also grabs the necessary tools for operation and stores them alongside the workflow within the primary folder of a SDS. \n"
   ]
  },
  {
   "cell_type": "code",
   "execution_count": 3,
   "id": "799de4f9",
   "metadata": {},
   "outputs": [
    {
     "name": "stderr",
     "output_type": "stream",
     "text": [
      "/home/mfre190/anaconda3/envs/sparc/lib/python3.9/site-packages/sparc_me/core/dataset.py:260: FutureWarning:save is not part of the public API, usage can give unexpected results and will be removed in a future version\n",
      "/home/mfre190/anaconda3/envs/sparc/lib/python3.9/site-packages/sparc_me/core/dataset.py:260: FutureWarning:save is not part of the public API, usage can give unexpected results and will be removed in a future version\n",
      "/home/mfre190/anaconda3/envs/sparc/lib/python3.9/site-packages/sparc_me/core/dataset.py:260: FutureWarning:save is not part of the public API, usage can give unexpected results and will be removed in a future version\n",
      "/home/mfre190/anaconda3/envs/sparc/lib/python3.9/site-packages/sparc_me/core/dataset.py:260: FutureWarning:save is not part of the public API, usage can give unexpected results and will be removed in a future version\n",
      "/home/mfre190/anaconda3/envs/sparc/lib/python3.9/site-packages/sparc_me/core/dataset.py:260: FutureWarning:save is not part of the public API, usage can give unexpected results and will be removed in a future version\n",
      "/home/mfre190/anaconda3/envs/sparc/lib/python3.9/site-packages/sparc_me/core/dataset.py:260: FutureWarning:save is not part of the public API, usage can give unexpected results and will be removed in a future version\n",
      "/home/mfre190/anaconda3/envs/sparc/lib/python3.9/site-packages/sparc_me/core/dataset.py:260: FutureWarning:save is not part of the public API, usage can give unexpected results and will be removed in a future version\n",
      "/home/mfre190/anaconda3/envs/sparc/lib/python3.9/site-packages/sparc_me/core/dataset.py:260: FutureWarning:save is not part of the public API, usage can give unexpected results and will be removed in a future version\n",
      "/home/mfre190/anaconda3/envs/sparc/lib/python3.9/site-packages/sparc_me/core/dataset.py:260: FutureWarning:save is not part of the public API, usage can give unexpected results and will be removed in a future version\n",
      "/home/mfre190/anaconda3/envs/sparc/lib/python3.9/site-packages/sparc_me/core/dataset.py:260: FutureWarning:save is not part of the public API, usage can give unexpected results and will be removed in a future version\n"
     ]
    }
   ],
   "source": [
    "workflow = sparc_flow.Workflow()\n",
    "workflow.set_steps(tool_path=\"../tutorial_2/tools\") \n",
    "workflow.set_input_value(input_value = 262, input_name = \"number\", input_type = \"int\")\n",
    "workflow.generate_description() \n",
    "workflow.create_sds(\"../resources/tutorial_2_resources/workflow_dataset\", \"../tutorial_2\") \n"
   ]
  }
 ],
 "metadata": {
  "kernelspec": {
   "display_name": "Python 3 (ipykernel)",
   "language": "python",
   "name": "python3"
  },
  "language_info": {
   "codemirror_mode": {
    "name": "ipython",
    "version": 3
   },
   "file_extension": ".py",
   "mimetype": "text/x-python",
   "name": "python",
   "nbconvert_exporter": "python",
   "pygments_lexer": "ipython3",
   "version": "3.9.17"
  }
 },
 "nbformat": 4,
 "nbformat_minor": 5
}
