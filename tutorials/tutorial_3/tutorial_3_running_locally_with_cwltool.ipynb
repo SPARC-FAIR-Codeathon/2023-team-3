{
 "cells": [
  {
   "cell_type": "markdown",
   "id": "83b17252",
   "metadata": {},
   "source": [
    "# Tutorial 3: Running a workflow locally using cwltool\n",
    "\n",
    "This tutorial will use sparc-flow to run the standardised workflow described in Tutorial 2 locally using cwltool. \n",
    "\n",
    "## Requirements\n",
    "pip install sparc_flow\n",
    "\n",
    "## Loading a workflow\n",
    "The first step is to load a workflow from within a SDS:"
   ]
  },
  {
   "cell_type": "code",
   "execution_count": null,
   "id": "598758c9",
   "metadata": {},
   "outputs": [],
   "source": [
    "import sparc_flow\n",
    "\n",
    "workflow = sparc_flow.load_workflows(\"../../resources/workflow_dataset\")"
   ]
  },
  {
   "cell_type": "markdown",
   "id": "36f426c5",
   "metadata": {},
   "source": [
    "This grabs the workflow description along with the necessary tools. We can now execute this workflow by using the sparc_flow run method. The workflow run method uses the command cwltool on the workflow.cwl and inp_job.json files."
   ]
  },
  {
   "cell_type": "code",
   "execution_count": null,
   "id": "d8399357",
   "metadata": {},
   "outputs": [],
   "source": [
    "workflow.run()"
   ]
  },
  {
   "cell_type": "markdown",
   "id": "6709e1e4",
   "metadata": {},
   "source": [
    "This executes the work flow and saves(?) the output to an SDS located (??)."
   ]
  }
 ],
 "metadata": {
  "kernelspec": {
   "display_name": "Python 3 (ipykernel)",
   "language": "python",
   "name": "python3"
  },
  "language_info": {
   "codemirror_mode": {
    "name": "ipython",
    "version": 3
   },
   "file_extension": ".py",
   "mimetype": "text/x-python",
   "name": "python",
   "nbconvert_exporter": "python",
   "pygments_lexer": "ipython3",
   "version": "3.9.16"
  }
 },
 "nbformat": 4,
 "nbformat_minor": 5
}
