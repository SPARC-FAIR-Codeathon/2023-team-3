{
 "cells": [
  {
   "cell_type": "markdown",
   "id": "05cfa354",
   "metadata": {},
   "source": [
    "# Running a work flow locally using cwltool\n",
    "\n",
    "Here we will use sparc-flow to run the standardised workflow described in Tutorial 2 locally using cwltool. \n",
    "\n",
    "The first step is to load a workflow from within a SDS:"
   ]
  },
  {
   "cell_type": "code",
   "execution_count": null,
   "id": "baeaf47a",
   "metadata": {},
   "outputs": [],
   "source": [
    "import sparc_flow\n",
    "\n",
    "sparc_flow.load_workflows(\"../../resources/workflow_sds\")"
   ]
  },
  {
   "cell_type": "markdown",
   "id": "773a295e",
   "metadata": {},
   "source": [
    "This grabs the workflow description along with the necessary tools. We can now execute this workflow by using the sparc_flow run method. "
   ]
  },
  {
   "cell_type": "code",
   "execution_count": null,
   "id": "d90f010c",
   "metadata": {},
   "outputs": [],
   "source": [
    "sparc_flow.run()"
   ]
  },
  {
   "cell_type": "markdown",
   "id": "0d9230e1",
   "metadata": {},
   "source": [
    "This executes the work flow and saves(?) the output to an SDS located (??)."
   ]
  }
 ],
 "metadata": {
  "kernelspec": {
   "display_name": "Python 3 (ipykernel)",
   "language": "python",
   "name": "python3"
  },
  "language_info": {
   "codemirror_mode": {
    "name": "ipython",
    "version": 3
   },
   "file_extension": ".py",
   "mimetype": "text/x-python",
   "name": "python",
   "nbconvert_exporter": "python",
   "pygments_lexer": "ipython3",
   "version": "3.9.16"
  }
 },
 "nbformat": 4,
 "nbformat_minor": 5
}
