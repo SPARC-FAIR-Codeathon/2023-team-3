{
 "cells": [
  {
   "attachments": {},
   "cell_type": "markdown",
   "id": "2554948a",
   "metadata": {},
   "source": [
    "# Tutorial 3: Running a workflow locally using cwltool\n",
    "\n",
    "This tutorial will use sparc-flow to run the standardised workflow described in Tutorial 2 locally using cwltool. \n",
    "\n",
    "## Requirements\n",
    "pip install sparc_flow\n",
    "\n",
    "## Loading a workflow\n",
    "The first step is to load a workflow from within a SDS:\n",
    "\n",
    "- For this we can easily just use the workflow folder path as input.\n",
    "- `load_workflows` will automatically move the tools folder under workflow folder."
   ]
  },
  {
   "cell_type": "code",
   "execution_count": 7,
   "id": "e24a3669",
   "metadata": {},
   "outputs": [],
   "source": [
    "try:\n",
    "    import sparc_flow \n",
    "except Exception:\n",
    "    print(\"Please run on linux, sparc_flow does not yet support windows\")"
   ]
  },
  {
   "cell_type": "code",
   "execution_count": 8,
   "id": "c01e57f5",
   "metadata": {},
   "outputs": [
    {
     "data": {
      "text/plain": [
       "{'workflow_path': '../resources/tutorial_2_resources/workflow_dataset/primary/workflow/',\n",
       " 'params_path': '../resources/tutorial_2_resources/workflow_dataset/primary/workflow/tools/'}"
      ]
     },
     "execution_count": 8,
     "metadata": {},
     "output_type": "execute_result"
    }
   ],
   "source": [
    "workflow = sparc_flow.Workflow()\n",
    "workflow.load_workflow(\"../resources/tutorial_2_resources/workflow_dataset/primary/workflow\")"
   ]
  },
  {
   "attachments": {},
   "cell_type": "markdown",
   "id": "e8838b92",
   "metadata": {},
   "source": [
    "This grabs the workflow description along with the necessary tools. We can now execute this workflow by using the sparc_flow run method. \n",
    "\n",
    "The workflow run method has a runner paramter, the default value for the runner is using cwltool ro excute the workflow and arguments files. It is also support deckstore as a runner to excute workflow, for more details on this please see tutorial_4. "
   ]
  },
  {
   "cell_type": "code",
   "execution_count": 9,
   "id": "5144daf5",
   "metadata": {},
   "outputs": [
    {
     "name": "stdout",
     "output_type": "stream",
     "text": [
      "Figure(1500x500)\n"
     ]
    }
   ],
   "source": [
    "workflow.run() \n"
   ]
  },
  {
   "attachments": {},
   "cell_type": "markdown",
   "id": "b037bb11",
   "metadata": {},
   "source": [
    "This executes the work flow and saves(?) the output to an SDS located (??)."
   ]
  }
 ],
 "metadata": {
  "kernelspec": {
   "display_name": "Python 3 (ipykernel)",
   "language": "python",
   "name": "python3"
  },
  "language_info": {
   "codemirror_mode": {
    "name": "ipython",
    "version": 3
   },
   "file_extension": ".py",
   "mimetype": "text/x-python",
   "name": "python",
   "nbconvert_exporter": "python",
   "pygments_lexer": "ipython3",
   "version": "3.9.17"
  }
 },
 "nbformat": 4,
 "nbformat_minor": 5
}
