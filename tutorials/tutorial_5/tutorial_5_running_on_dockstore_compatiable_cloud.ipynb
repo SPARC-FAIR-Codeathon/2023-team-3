{
 "cells": [
  {
   "cell_type": "markdown",
   "id": "f68c7b27",
   "metadata": {},
   "source": [
    "# Tutorial 5: Running a workflow on cloud platform using Dockstore\n",
    "This tutorial sparc-flow to run the standardised workflow described in Tutorial 2 on a cloud platform () using Dockstore.\n",
    "\n",
    "## Installing Dockstore CLI\n",
    "These instructions are suitable for the following systems: Linux/Ubuntu/MacOS\n",
    "\n",
    "  - It is recommeneded to use conda to create an env for dockstore\n",
    "    ```bash\n",
    "      conda create --name cwl-dockstore-env python=3.9\n",
    "      conda activate cwl-dockstore-env\n",
    "    ```\n",
    "  - All python related commands (include pip install) should be run within this env, highly recommand you to install guideline Part 5 python requirements.txt. If not, you may get cwltool version error.\n",
    "  - Then all CWL workflow can run in this env\n",
    "\n",
    "- For Linux/Ubuntu users should follow Dockstore [guideline](https://dockstore.org/quick-start)\n",
    "\n",
    "- For MacOS user also should follow Dockstore [guideline](https://dockstore.org/quick-start)\n",
    "\n",
    "  - we note that although the official guideance recommends installing `Java 11`, we found it necessary to download Java 17 or above.\n",
    "  - Also for MacOS users, if your terminal is zsh rather than bash, you cannot fully setup guideline Part 2, what you can do is:\n",
    "\n",
    "  ```bash\n",
    "    echo $SHELL # check current shell\n",
    "    chsh -s /bin/zsh # switch to zsh\n",
    "    chsh -s /bin/bash # swithc to bash\n",
    "  ```\n",
    "\n",
    "  - If you meet error to run `chmod +x ~/bin/dockstore`\n",
    "    ```bash\n",
    "      sudo chmod +x ~/bin/dockstore\n",
    "    ```\n",
    "## How to run dockstore locally with CWL\n",
    "  - cd in example folder\n",
    "    ```bash\n",
    "      cd 2023-team-3/examples/workflow_examples\n",
    "    ```\n",
    "  - Make sure you python env activate\n",
    "    ```bash\n",
    "      conda activate cwl-dockstore-env\n",
    "      dockstore --version # check if dockstore is work or not\n",
    "    ```\n",
    "  - Then run the dockstore code:\n",
    "    ```bash\n",
    "      dockstore tool launch --local-entry hello_world.cwl --yaml inp_job.yml\n",
    "    ```\n",
    "  - After run the code:\n",
    "    - It will generate a datastore folder.\n",
    "    - Then you can find your inputs and outputs under that folder.\n",
    "\n",
    "## Requirements\n",
    "pip install sparc_flow\n",
    "\n",
    "## Loading a work flow"
   ]
  },
  {
   "cell_type": "code",
   "execution_count": null,
   "id": "bedc775a",
   "metadata": {},
   "outputs": [],
   "source": [
    "import sparc_flow\n",
    "\n",
    "# The workflow can be loaded from a local dataset or from Github (?)\n",
    "\n"
   ]
  }
 ],
 "metadata": {
  "kernelspec": {
   "display_name": "Python 3 (ipykernel)",
   "language": "python",
   "name": "python3"
  },
  "language_info": {
   "codemirror_mode": {
    "name": "ipython",
    "version": 3
   },
   "file_extension": ".py",
   "mimetype": "text/x-python",
   "name": "python",
   "nbconvert_exporter": "python",
   "pygments_lexer": "ipython3",
   "version": "3.9.16"
  }
 },
 "nbformat": 4,
 "nbformat_minor": 5
}
