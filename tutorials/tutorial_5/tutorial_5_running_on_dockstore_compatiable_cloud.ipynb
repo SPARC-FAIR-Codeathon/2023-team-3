{
 "cells": [
  {
   "cell_type": "markdown",
   "id": "242b0346",
   "metadata": {},
   "source": [
    "# Tutorial 5: Running a workflow on cloud platform using Dockstore\n",
    "This tutorial sparc-flow to run the standardised workflow described in Tutorial 2 on a cloud platform () using Dockstore.\n",
    "\n",
    "## Installing Dockstore\n",
    "\n",
    "\n",
    "## Requirements\n",
    "pip install sparc_flow\n",
    "\n",
    "## Loading a work flow"
   ]
  },
  {
   "cell_type": "code",
   "execution_count": null,
   "id": "f5fe5911",
   "metadata": {},
   "outputs": [],
   "source": [
    "import sparc_flow\n",
    "\n",
    "# The workflow can be loaded from a local dataset or from Github (?)\n",
    "\n"
   ]
  }
 ],
 "metadata": {
  "kernelspec": {
   "display_name": "Python 3 (ipykernel)",
   "language": "python",
   "name": "python3"
  },
  "language_info": {
   "codemirror_mode": {
    "name": "ipython",
    "version": 3
   },
   "file_extension": ".py",
   "mimetype": "text/x-python",
   "name": "python",
   "nbconvert_exporter": "python",
   "pygments_lexer": "ipython3",
   "version": "3.9.16"
  }
 },
 "nbformat": 4,
 "nbformat_minor": 5
}
