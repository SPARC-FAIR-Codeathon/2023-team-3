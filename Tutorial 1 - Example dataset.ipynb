{
 "cells": [
  {
   "attachments": {},
   "cell_type": "markdown",
   "id": "58dcd0c7",
   "metadata": {},
   "source": [
    "This tutorial will identify a published SPARC data set (SDS) that uses a python script to generate a derived dataset. \n",
    "\n",
    "## data is sourced from https://sparc.science/datasets/262?type=dataset\n",
    "## executed with python 3.10\n",
    "\n",
    "pip install sparc_me\n",
    "pip install pyeCAP\n",
    "# Using sparc_me to download an existing curated SDS\n"
   ]
  },
  {
   "cell_type": "code",
   "execution_count": null,
   "id": "4b6dccd7",
   "metadata": {},
   "outputs": [
    {
     "ename": "",
     "evalue": "",
     "output_type": "error",
     "traceback": [
      "\u001b[1;31mRunning cells with 'c:\\Users\\mhof485\\OneDrive - The University of Auckland\\Documents\\sparc-flow\\2023-team-3\\.conda\\python.exe' requires the ipykernel package.\n",
      "\u001b[1;31mRun the following command to install 'ipykernel' into the Python environment. \n",
      "\u001b[1;31mCommand: 'conda install -p c:\\Users\\mhof485\\OneDrive - The University of Auckland\\Documents\\sparc-flow\\2023-team-3\\.conda ipykernel --update-deps --force-reinstall'"
     ]
    }
   ],
   "source": [
    "from sparc_me import Dataset_Api\n",
    "api_tools = Dataset_Api()\n",
    "\n",
    "dataset = api_tools.get_dataset_latest_version_pensieve(262)"
   ]
  }
 ],
 "metadata": {
  "kernelspec": {
   "display_name": "Python 3 (ipykernel)",
   "language": "python",
   "name": "python3"
  },
  "language_info": {
   "codemirror_mode": {
    "name": "ipython",
    "version": 3
   },
   "file_extension": ".py",
   "mimetype": "text/x-python",
   "name": "python",
   "nbconvert_exporter": "python",
   "pygments_lexer": "ipython3",
   "version": "3.10.12"
  }
 },
 "nbformat": 4,
 "nbformat_minor": 5
}
